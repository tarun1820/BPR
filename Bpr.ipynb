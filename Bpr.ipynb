{
  "nbformat": 4,
  "nbformat_minor": 0,
  "metadata": {
    "colab": {
      "provenance": [],
      "mount_file_id": "1yql_1ly2CYNRzM_D9wuecLkyGEoFGftD",
      "authorship_tag": "ABX9TyPsiOtFAILjDzVqA7e+87JQ",
      "include_colab_link": true
    },
    "kernelspec": {
      "name": "python3",
      "display_name": "Python 3"
    },
    "language_info": {
      "name": "python"
    }
  },
  "cells": [
    {
      "cell_type": "markdown",
      "metadata": {
        "id": "view-in-github",
        "colab_type": "text"
      },
      "source": [
        "<a href=\"https://colab.research.google.com/github/tarun1820/BPR/blob/main/Bpr.ipynb\" target=\"_parent\"><img src=\"https://colab.research.google.com/assets/colab-badge.svg\" alt=\"Open In Colab\"/></a>"
      ]
    },
    {
      "cell_type": "code",
      "source": [
        "%cd drive/My Drive/BPR"
      ],
      "metadata": {
        "colab": {
          "base_uri": "https://localhost:8080/"
        },
        "id": "FoM9uJaVrS5h",
        "outputId": "840418c2-faa4-4f56-cd18-ad3cead90ecd"
      },
      "execution_count": null,
      "outputs": [
        {
          "output_type": "stream",
          "name": "stdout",
          "text": [
            "/content/drive/My Drive/BPR\n"
          ]
        }
      ]
    },
    {
      "cell_type": "code",
      "source": [
        "!ls"
      ],
      "metadata": {
        "colab": {
          "base_uri": "https://localhost:8080/"
        },
        "id": "vay8fzEtr8yI",
        "outputId": "2a496f18-e0fe-4ec8-8de2-0bf7d080a4a3"
      },
      "execution_count": 7,
      "outputs": [
        {
          "output_type": "stream",
          "name": "stdout",
          "text": [
            "data  data_1M  LICENSE\tpython\tREADME.md\n"
          ]
        }
      ]
    },
    {
      "cell_type": "code",
      "source": [
        "!python python/mainbpr.py"
      ],
      "metadata": {
        "colab": {
          "base_uri": "https://localhost:8080/"
        },
        "id": "Nih6S7IOsGLI",
        "outputId": "8e61fa63-af10-4b8a-c53c-d9ff57068e65"
      },
      "execution_count": 8,
      "outputs": [
        {
          "output_type": "stream",
          "name": "stdout",
          "text": [
            "Reading files...\n",
            "/content/drive/MyDrive/BPR/python/filereader.py:22: DtypeWarning: Columns (2) have mixed types. Specify dtype option on import or set low_memory=False.\n",
            "  ratings = pd.read_csv(filename,  sep=',', names=r_cols, encoding='latin-1')\n",
            "Traceback (most recent call last):\n",
            "  File \"/content/drive/MyDrive/BPR/python/mainbpr.py\", line 20, in <module>\n",
            "    users = read_ratings(\"data_1M/ratings.csv\")\n",
            "  File \"/content/drive/MyDrive/BPR/python/filereader.py\", line 24, in read_ratings\n",
            "    ratings['user_id'] = ratings['user_id'].astype(int)\n",
            "  File \"/usr/local/lib/python3.10/dist-packages/pandas/core/generic.py\", line 6324, in astype\n",
            "    new_data = self._mgr.astype(dtype=dtype, copy=copy, errors=errors)\n",
            "  File \"/usr/local/lib/python3.10/dist-packages/pandas/core/internals/managers.py\", line 451, in astype\n",
            "    return self.apply(\n",
            "  File \"/usr/local/lib/python3.10/dist-packages/pandas/core/internals/managers.py\", line 352, in apply\n",
            "    applied = getattr(b, f)(**kwargs)\n",
            "  File \"/usr/local/lib/python3.10/dist-packages/pandas/core/internals/blocks.py\", line 511, in astype\n",
            "    new_values = astype_array_safe(values, dtype, copy=copy, errors=errors)\n",
            "  File \"/usr/local/lib/python3.10/dist-packages/pandas/core/dtypes/astype.py\", line 242, in astype_array_safe\n",
            "    new_values = astype_array(values, dtype, copy=copy)\n",
            "  File \"/usr/local/lib/python3.10/dist-packages/pandas/core/dtypes/astype.py\", line 187, in astype_array\n",
            "    values = _astype_nansafe(values, dtype, copy=copy)\n",
            "  File \"/usr/local/lib/python3.10/dist-packages/pandas/core/dtypes/astype.py\", line 138, in _astype_nansafe\n",
            "    return arr.astype(dtype, copy=True)\n",
            "ValueError: invalid literal for int() with base 10: '48::2404::2::978066574'\n"
          ]
        }
      ]
    },
    {
      "cell_type": "code",
      "source": [],
      "metadata": {
        "id": "iZvRhaI_tC94"
      },
      "execution_count": null,
      "outputs": []
    }
  ]
}